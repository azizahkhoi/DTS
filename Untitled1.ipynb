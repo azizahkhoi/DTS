{
  "nbformat": 4,
  "nbformat_minor": 0,
  "metadata": {
    "colab": {
      "name": "Untitled1.ipynb",
      "provenance": [],
      "include_colab_link": true
    },
    "kernelspec": {
      "name": "python2",
      "display_name": "Python 2"
    }
  },
  "cells": [
    {
      "cell_type": "markdown",
      "metadata": {
        "id": "view-in-github",
        "colab_type": "text"
      },
      "source": [
        "<a href=\"https://colab.research.google.com/github/azizahkhoi/DTS/blob/master/Untitled1.ipynb\" target=\"_parent\"><img src=\"https://colab.research.google.com/assets/colab-badge.svg\" alt=\"Open In Colab\"/></a>"
      ]
    },
    {
      "cell_type": "code",
      "metadata": {
        "id": "hdyvQEoJpfgO",
        "colab_type": "code",
        "colab": {
          "base_uri": "https://localhost:8080/",
          "height": 201
        },
        "outputId": "dffbbf19-d79a-46bd-91e3-c75bdb8c0809"
      },
      "source": [
        "x=3\n",
        "print(type(x))\n",
        "print(x)\n",
        "print(x+1)\n",
        "print(x-1)\n",
        "print(x*2)\n",
        "print(x**2)\n",
        "x += 2\n",
        "print(x)\n",
        "x *= 2\n",
        "print(x)\n",
        "y=2.5\n",
        "print(type(y))\n",
        "print(y, y+1, y*2, y **2)"
      ],
      "execution_count": 1,
      "outputs": [
        {
          "output_type": "stream",
          "text": [
            "<type 'int'>\n",
            "3\n",
            "4\n",
            "2\n",
            "6\n",
            "9\n",
            "5\n",
            "10\n",
            "<type 'float'>\n",
            "(2.5, 3.5, 5.0, 6.25)\n"
          ],
          "name": "stdout"
        }
      ]
    },
    {
      "cell_type": "code",
      "metadata": {
        "id": "xZuMPEirpwtm",
        "colab_type": "code",
        "colab": {
          "base_uri": "https://localhost:8080/",
          "height": 35
        },
        "outputId": "3db63fe8-4d46-4f8a-b623-0b31c8e5387b"
      },
      "source": [
        "i=input('Masukkan Input :') #python3\n"
      ],
      "execution_count": 4,
      "outputs": [
        {
          "output_type": "stream",
          "text": [
            "Masukkan Input :3\n"
          ],
          "name": "stdout"
        }
      ]
    },
    {
      "cell_type": "code",
      "metadata": {
        "id": "cuZ1Vyuis07M",
        "colab_type": "code",
        "colab": {
          "base_uri": "https://localhost:8080/",
          "height": 274
        },
        "outputId": "627f593b-9d9d-48d1-e809-9333b1d482db"
      },
      "source": [
        "data = ['hello', 'world']\n",
        "for i in data:\n",
        "    print (i)\n",
        "    print('----------------')\n",
        "    for j in i:\n",
        "        print(j)"
      ],
      "execution_count": 5,
      "outputs": [
        {
          "output_type": "stream",
          "text": [
            "hello\n",
            "----------------\n",
            "h\n",
            "e\n",
            "l\n",
            "l\n",
            "o\n",
            "world\n",
            "----------------\n",
            "w\n",
            "o\n",
            "r\n",
            "l\n",
            "d\n"
          ],
          "name": "stdout"
        }
      ]
    },
    {
      "cell_type": "markdown",
      "metadata": {
        "id": "6pu4GEVDs1n-",
        "colab_type": "text"
      },
      "source": [
        ""
      ]
    }
  ]
}